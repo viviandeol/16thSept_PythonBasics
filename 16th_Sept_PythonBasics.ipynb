{
 "cells": [
  {
   "cell_type": "code",
   "execution_count": 1,
   "id": "d008e484",
   "metadata": {},
   "outputs": [
    {
     "name": "stdout",
     "output_type": "stream",
     "text": [
      "Hello World\n"
     ]
    }
   ],
   "source": [
    "# 1. Simple Message\n",
    "message = \"Hello World\"\n",
    "print(message)"
   ]
  },
  {
   "cell_type": "code",
   "execution_count": 3,
   "id": "cd2ccde0",
   "metadata": {},
   "outputs": [
    {
     "name": "stdout",
     "output_type": "stream",
     "text": [
      "Welcome to Python\n",
      "I hope you are enjoying learning Python\n"
     ]
    }
   ],
   "source": [
    "# 2. Changing the value of the variable\n",
    "message = \"Welcome to Python\"\n",
    "print(message)\n",
    "message = \"I hope you are enjoying learning Python\"\n",
    "print(message)"
   ]
  },
  {
   "cell_type": "code",
   "execution_count": 6,
   "id": "fed01c52",
   "metadata": {},
   "outputs": [
    {
     "name": "stdout",
     "output_type": "stream",
     "text": [
      "Hello Eric, Would you like to learn some Python today?\n"
     ]
    }
   ],
   "source": [
    "# 3. Personalized message\n",
    "name = \" Eric\"\n",
    "message = \"Hello{}, Would you like to learn some Python today?\".format(name)\n",
    "print(message)"
   ]
  },
  {
   "cell_type": "code",
   "execution_count": 8,
   "id": "6a3ecbee",
   "metadata": {},
   "outputs": [
    {
     "name": "stdout",
     "output_type": "stream",
     "text": [
      "Kobe Bryant once said, \"Its not about the destination its about the journey, if you understand this your dreams won't come true, Something Greater Will\".\n"
     ]
    }
   ],
   "source": [
    "# 4. Quote from Famous Person\n",
    "quote = \"Its not about the destination its about the journey, if you understand this your dreams won't come true, Something Greater Will\"\n",
    "author = \"Kobe Bryant\"\n",
    "print(\"{} once said, \\\"{}\\\".\".format(author,quote))"
   ]
  },
  {
   "cell_type": "code",
   "execution_count": 9,
   "id": "f311c2e7",
   "metadata": {},
   "outputs": [
    {
     "name": "stdout",
     "output_type": "stream",
     "text": [
      "Angelita Lim once said, \"I saw that you were perfect, and so I loved you.Then I saw that you were not perfect and I loved you even more.\"\n"
     ]
    }
   ],
   "source": [
    "# 5. Storing values in variables\n",
    "famous_person = \"Angelita Lim\"\n",
    "message = \"{} once said, \\\"I saw that you were perfect, and so I loved you.Then I saw that you were not perfect and I loved you even more.\\\"\".format(famous_person)\n",
    "print(message)"
   ]
  },
  {
   "cell_type": "code",
   "execution_count": 11,
   "id": "cfc8ff08",
   "metadata": {},
   "outputs": [
    {
     "name": "stdout",
     "output_type": "stream",
     "text": [
      "8\n",
      "8\n",
      "8\n",
      "8.0\n"
     ]
    }
   ],
   "source": [
    "# 6. Mathematical Operations\n",
    "print(5+3)\n",
    "print(12-4)\n",
    "print(2*4)\n",
    "print(16/2)"
   ]
  },
  {
   "cell_type": "code",
   "execution_count": 12,
   "id": "974b411d",
   "metadata": {},
   "outputs": [
    {
     "name": "stdout",
     "output_type": "stream",
     "text": [
      "My favorite number is 7\n"
     ]
    }
   ],
   "source": [
    "# 7. Favorite Number\n",
    "favorite_number = 7\n",
    "message = \"My favorite number is {}\".format(favorite_number)\n",
    "print(message)"
   ]
  },
  {
   "cell_type": "code",
   "execution_count": 13,
   "id": "44e9ff22",
   "metadata": {},
   "outputs": [
    {
     "name": "stdout",
     "output_type": "stream",
     "text": [
      "Hello, world!\n",
      "Hello Eric, Would you like to learn some Python today?\n"
     ]
    }
   ],
   "source": [
    "# 8. Adding comments\n",
    "#Program 1\n",
    "#This program prints a simple message.\n",
    "print(\"Hello, world!\")\n",
    "\n",
    "#Program 2\n",
    "#This program stores a person's name in a variable and prints a personalised message.\n",
    "name = \"Eric\"\n",
    "message = \"Hello {}, Would you like to learn some Python today?\".format(name)\n",
    "print(message)\n"
   ]
  },
  {
   "cell_type": "code",
   "execution_count": 16,
   "id": "7ae497e1",
   "metadata": {},
   "outputs": [
    {
     "name": "stdout",
     "output_type": "stream",
     "text": [
      "['John', 'James', 'Rochelle', 'Giselle']\n",
      "['John', 'James', 'Rochelle', 'Giselle']\n",
      "['John', 'James', 'Rochelle', 'Giselle']\n",
      "['John', 'James', 'Rochelle', 'Giselle']\n"
     ]
    }
   ],
   "source": [
    "# 9. List of Friends\n",
    "names = [\"John\", \"James\", \"Rochelle\", \"Giselle\"]\n",
    "for name in names:\n",
    "    print(names)"
   ]
  },
  {
   "cell_type": "code",
   "execution_count": 17,
   "id": "2715a91b",
   "metadata": {},
   "outputs": [
    {
     "name": "stdout",
     "output_type": "stream",
     "text": [
      "Hello John, I hope you are having a great day!\n",
      "Hello James, I hope you are having a great day!\n",
      "Hello Rochelle, I hope you are having a great day!\n",
      "Hello Giselle, I hope you are having a great day!\n"
     ]
    }
   ],
   "source": [
    "# 10. Personalised messages for Friends\n",
    "names = [\"John\", \"James\", \"Rochelle\", \"Giselle\"]\n",
    "for name in names:\n",
    "    message = \"Hello {}, I hope you are having a great day!\".format(name)\n",
    "    print(message)"
   ]
  },
  {
   "cell_type": "code",
   "execution_count": 18,
   "id": "750918f7",
   "metadata": {},
   "outputs": [
    {
     "name": "stdout",
     "output_type": "stream",
     "text": [
      "I would like to own a motorcycle.\n",
      "I would like to own a car.\n",
      "I would like to own a airplane.\n"
     ]
    }
   ],
   "source": [
    "# 11. Favorite mode of transportation\n",
    "vehicles = [\"motorcycle\", \"car\", \"airplane\"]\n",
    "for vehicle in vehicles:\n",
    "    print(\"I would like to own a {}.\".format(vehicle))"
   ]
  },
  {
   "cell_type": "code",
   "execution_count": null,
   "id": "814340b8",
   "metadata": {},
   "outputs": [],
   "source": []
  }
 ],
 "metadata": {
  "kernelspec": {
   "display_name": "Python 3 (ipykernel)",
   "language": "python",
   "name": "python3"
  },
  "language_info": {
   "codemirror_mode": {
    "name": "ipython",
    "version": 3
   },
   "file_extension": ".py",
   "mimetype": "text/x-python",
   "name": "python",
   "nbconvert_exporter": "python",
   "pygments_lexer": "ipython3",
   "version": "3.11.4"
  }
 },
 "nbformat": 4,
 "nbformat_minor": 5
}
